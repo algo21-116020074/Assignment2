{
 "cells": [
  {
   "cell_type": "code",
   "execution_count": 46,
   "metadata": {},
   "outputs": [],
   "source": [
    "df = get_bars(security=\"600519.XSHG\", count=5000, unit='1d',\n",
    "         fields=['date','open','high','low','close','volume','money'],\n",
    "         include_now=False, end_dt=None, fq_ref_date=None, df=True)"
   ]
  },
  {
   "cell_type": "code",
   "execution_count": 50,
   "metadata": {},
   "outputs": [
    {
     "name": "stdout",
     "output_type": "stream",
     "text": [
      "         date  open   high    low  close     volume       money\n",
      "0  2005-01-04  36.4  36.80  36.00  36.45   234881.0   8566179.0\n",
      "1  2005-01-05  36.4  37.28  36.23  37.24   613933.0  22582400.0\n",
      "2  2005-01-06  37.0  37.10  36.50  36.60   552372.0  20282548.0\n",
      "3  2005-01-07  36.5  37.20  36.50  36.90   300274.0  11115440.0\n",
      "4  2005-01-10  36.9  38.30  36.90  38.25  1071811.0  40597723.0\n",
      "(3902, 7)\n"
     ]
    }
   ],
   "source": [
    "print(df.head())\n",
    "print(df.shape)"
   ]
  },
  {
   "cell_type": "code",
   "execution_count": 38,
   "metadata": {},
   "outputs": [],
   "source": [
    "import pandas as pd\n",
    "import os\n",
    "import numpy as np\n",
    "import matplotlib.pyplot as plt\n",
    "import tensorflow as tf"
   ]
  },
  {
   "cell_type": "code",
   "execution_count": 9,
   "metadata": {},
   "outputs": [
    {
     "data": {
      "text/plain": [
       "'/home/jquser'"
      ]
     },
     "execution_count": 9,
     "metadata": {},
     "output_type": "execute_result"
    }
   ],
   "source": [
    "os.getcwd()"
   ]
  },
  {
   "cell_type": "code",
   "execution_count": 10,
   "metadata": {},
   "outputs": [],
   "source": [
    "df.to_csv('Maotai_data.csv')"
   ]
  },
  {
   "cell_type": "code",
   "execution_count": 48,
   "metadata": {},
   "outputs": [],
   "source": [
    "data = df.iloc[:,1:]\n",
    "data['label'] = data['close'].shift(-1)\n",
    "data = data.dropna()"
   ]
  },
  {
   "cell_type": "code",
   "execution_count": 49,
   "metadata": {},
   "outputs": [
    {
     "name": "stdout",
     "output_type": "stream",
     "text": [
      "   open   high    low  close     volume       money  label\n",
      "0  36.4  36.80  36.00  36.45   234881.0   8566179.0  37.24\n",
      "1  36.4  37.28  36.23  37.24   613933.0  22582400.0  36.60\n",
      "2  37.0  37.10  36.50  36.60   552372.0  20282548.0  36.90\n",
      "3  36.5  37.20  36.50  36.90   300274.0  11115440.0  38.25\n",
      "4  36.9  38.30  36.90  38.25  1071811.0  40597723.0  38.30\n",
      "(3901, 7)\n"
     ]
    }
   ],
   "source": [
    "print(data.head())\n",
    "print(data.shape)"
   ]
  },
  {
   "cell_type": "code",
   "execution_count": 35,
   "metadata": {},
   "outputs": [
    {
     "data": {
      "text/html": [
       "<div>\n",
       "<style scoped>\n",
       "    .dataframe tbody tr th:only-of-type {\n",
       "        vertical-align: middle;\n",
       "    }\n",
       "\n",
       "    .dataframe tbody tr th {\n",
       "        vertical-align: top;\n",
       "    }\n",
       "\n",
       "    .dataframe thead th {\n",
       "        text-align: right;\n",
       "    }\n",
       "</style>\n",
       "<table border=\"1\" class=\"dataframe\">\n",
       "  <thead>\n",
       "    <tr style=\"text-align: right;\">\n",
       "      <th></th>\n",
       "      <th>open</th>\n",
       "      <th>high</th>\n",
       "      <th>low</th>\n",
       "      <th>close</th>\n",
       "      <th>volume</th>\n",
       "      <th>money</th>\n",
       "      <th>label</th>\n",
       "    </tr>\n",
       "  </thead>\n",
       "  <tbody>\n",
       "    <tr>\n",
       "      <th>3897</th>\n",
       "      <td>3.551379</td>\n",
       "      <td>3.571170</td>\n",
       "      <td>3.591217</td>\n",
       "      <td>3.614725</td>\n",
       "      <td>2.093790</td>\n",
       "      <td>7.117960</td>\n",
       "      <td>3.735271</td>\n",
       "    </tr>\n",
       "    <tr>\n",
       "      <th>3898</th>\n",
       "      <td>3.632389</td>\n",
       "      <td>3.576433</td>\n",
       "      <td>3.615579</td>\n",
       "      <td>3.580568</td>\n",
       "      <td>0.361795</td>\n",
       "      <td>3.281544</td>\n",
       "      <td>3.620591</td>\n",
       "    </tr>\n",
       "    <tr>\n",
       "      <th>3899</th>\n",
       "      <td>3.586373</td>\n",
       "      <td>3.546366</td>\n",
       "      <td>3.592790</td>\n",
       "      <td>3.537806</td>\n",
       "      <td>0.237171</td>\n",
       "      <td>2.974994</td>\n",
       "      <td>3.586388</td>\n",
       "    </tr>\n",
       "    <tr>\n",
       "      <th>3900</th>\n",
       "      <td>3.529508</td>\n",
       "      <td>3.483472</td>\n",
       "      <td>3.480482</td>\n",
       "      <td>3.433456</td>\n",
       "      <td>0.891969</td>\n",
       "      <td>4.331307</td>\n",
       "      <td>3.543570</td>\n",
       "    </tr>\n",
       "    <tr>\n",
       "      <th>3901</th>\n",
       "      <td>3.452959</td>\n",
       "      <td>3.399656</td>\n",
       "      <td>3.365318</td>\n",
       "      <td>3.311155</td>\n",
       "      <td>0.846453</td>\n",
       "      <td>4.102224</td>\n",
       "      <td>3.439081</td>\n",
       "    </tr>\n",
       "  </tbody>\n",
       "</table>\n",
       "</div>"
      ],
      "text/plain": [
       "          open      high       low    ...       volume     money     label\n",
       "3897  3.551379  3.571170  3.591217    ...     2.093790  7.117960  3.735271\n",
       "3898  3.632389  3.576433  3.615579    ...     0.361795  3.281544  3.620591\n",
       "3899  3.586373  3.546366  3.592790    ...     0.237171  2.974994  3.586388\n",
       "3900  3.529508  3.483472  3.480482    ...     0.891969  4.331307  3.543570\n",
       "3901  3.452959  3.399656  3.365318    ...     0.846453  4.102224  3.439081\n",
       "\n",
       "[5 rows x 7 columns]"
      ]
     },
     "execution_count": 35,
     "metadata": {},
     "output_type": "execute_result"
    }
   ],
   "source": [
    "# Z-score标准化数据\n",
    "dt = (data - np.mean(data,axis=0))/np.std(data,axis=0)\n",
    "dt.tail()"
   ]
  },
  {
   "cell_type": "code",
   "execution_count": 52,
   "metadata": {},
   "outputs": [
    {
     "data": {
      "text/plain": [
       "[<matplotlib.lines.Line2D at 0x7f758e001c18>]"
      ]
     },
     "execution_count": 52,
     "metadata": {},
     "output_type": "execute_result"
    },
    {
     "data": {
      "image/png": "[encoded data removed]",
      "text/plain": [
       "<Figure size 432x288 with 1 Axes>"
      ]
     },
     "metadata": {
      "needs_background": "light"
     },
     "output_type": "display_data"
    }
   ],
   "source": [
    "plt.plot(df['date'],df['close'])"
   ]
  },
  {
   "cell_type": "code",
   "execution_count": 54,
   "metadata": {},
   "outputs": [
    {
     "data": {
      "text/html": [
       "<div>\n",
       "<style scoped>\n",
       "    .dataframe tbody tr th:only-of-type {\n",
       "        vertical-align: middle;\n",
       "    }\n",
       "\n",
       "    .dataframe tbody tr th {\n",
       "        vertical-align: top;\n",
       "    }\n",
       "\n",
       "    .dataframe thead th {\n",
       "        text-align: right;\n",
       "    }\n",
       "</style>\n",
       "<table border=\"1\" class=\"dataframe\">\n",
       "  <thead>\n",
       "    <tr style=\"text-align: right;\">\n",
       "      <th></th>\n",
       "      <th>open</th>\n",
       "      <th>high</th>\n",
       "      <th>low</th>\n",
       "      <th>close</th>\n",
       "      <th>volume</th>\n",
       "      <th>money</th>\n",
       "      <th>label</th>\n",
       "    </tr>\n",
       "  </thead>\n",
       "  <tbody>\n",
       "    <tr>\n",
       "      <th>3901</th>\n",
       "      <td>3.452959</td>\n",
       "      <td>3.399656</td>\n",
       "      <td>3.365318</td>\n",
       "      <td>3.311155</td>\n",
       "      <td>0.846453</td>\n",
       "      <td>4.102224</td>\n",
       "      <td>3.439081</td>\n",
       "    </tr>\n",
       "    <tr>\n",
       "      <th>3900</th>\n",
       "      <td>3.529508</td>\n",
       "      <td>3.483472</td>\n",
       "      <td>3.480482</td>\n",
       "      <td>3.433456</td>\n",
       "      <td>0.891969</td>\n",
       "      <td>4.331307</td>\n",
       "      <td>3.543570</td>\n",
       "    </tr>\n",
       "    <tr>\n",
       "      <th>3899</th>\n",
       "      <td>3.586373</td>\n",
       "      <td>3.546366</td>\n",
       "      <td>3.592790</td>\n",
       "      <td>3.537806</td>\n",
       "      <td>0.237171</td>\n",
       "      <td>2.974994</td>\n",
       "      <td>3.586388</td>\n",
       "    </tr>\n",
       "    <tr>\n",
       "      <th>3898</th>\n",
       "      <td>3.632389</td>\n",
       "      <td>3.576433</td>\n",
       "      <td>3.615579</td>\n",
       "      <td>3.580568</td>\n",
       "      <td>0.361795</td>\n",
       "      <td>3.281544</td>\n",
       "      <td>3.620591</td>\n",
       "    </tr>\n",
       "    <tr>\n",
       "      <th>3897</th>\n",
       "      <td>3.551379</td>\n",
       "      <td>3.571170</td>\n",
       "      <td>3.591217</td>\n",
       "      <td>3.614725</td>\n",
       "      <td>2.093790</td>\n",
       "      <td>7.117960</td>\n",
       "      <td>3.735271</td>\n",
       "    </tr>\n",
       "  </tbody>\n",
       "</table>\n",
       "</div>"
      ],
      "text/plain": [
       "          open      high       low    ...       volume     money     label\n",
       "3901  3.452959  3.399656  3.365318    ...     0.846453  4.102224  3.439081\n",
       "3900  3.529508  3.483472  3.480482    ...     0.891969  4.331307  3.543570\n",
       "3899  3.586373  3.546366  3.592790    ...     0.237171  2.974994  3.586388\n",
       "3898  3.632389  3.576433  3.615579    ...     0.361795  3.281544  3.620591\n",
       "3897  3.551379  3.571170  3.591217    ...     2.093790  7.117960  3.735271\n",
       "\n",
       "[5 rows x 7 columns]"
      ]
     },
     "execution_count": 54,
     "metadata": {},
     "output_type": "execute_result"
    }
   ],
   "source": [
    "dt[::-1].head()"
   ]
  },
  {
   "cell_type": "code",
   "execution_count": 56,
   "metadata": {},
   "outputs": [
    {
     "name": "stderr",
     "output_type": "stream",
     "text": [
      "Using TensorFlow backend.\n"
     ]
    }
   ],
   "source": [
    "# 调用库 \n",
    "import numpy as np\n",
    "import pandas as pd\n",
    "import matplotlib.pyplot as plt\n",
    "from tensorflow import keras\n",
    "from tensorflow.keras import layers\n",
    "from sklearn.preprocessing import MinMaxScaler\n",
    "from keras import regularizers"
   ]
  },
  {
   "cell_type": "code",
   "execution_count": 59,
   "metadata": {},
   "outputs": [],
   "source": [
    "array = df[['close']]\n",
    "from sklearn.preprocessing import MinMaxScaler\n",
    "scl = MinMaxScaler()\n",
    "array = scl.fit_transform(array)"
   ]
  },
  {
   "cell_type": "code",
   "execution_count": 60,
   "metadata": {},
   "outputs": [],
   "source": [
    "# 用过去50天预测未来5天；The Test set will be the last k (num_periods) periods we want test the model.\n",
    "look_back = 50\n",
    "forward_days = 5\n",
    "# num_periods = 40\n",
    "\n",
    "'''\n",
    "#split in Train and Test\n",
    "division = len(array) - num_periods*forward_days\n",
    "\n",
    "array_test = array[division-look_back:]\n",
    "array_train = array[:division]\n",
    "'''"
   ]
  },
  {
   "cell_type": "code",
   "execution_count": 61,
   "metadata": {},
   "outputs": [],
   "source": [
    "#Get the data and splits in input X and output Y, by spliting in `n` past days as input X \n",
    "#and `m` coming days as Y.\n",
    "def processData(data, look_back, forward_days,jump=1):\n",
    "    X,Y = [],[]\n",
    "    for i in range(0,len(data) -look_back -forward_days +1, jump):\n",
    "        X.append(data[i:(i+look_back)])\n",
    "        Y.append(data[(i+look_back):(i+look_back+forward_days)])\n",
    "    return np.array(X),np.array(Y)"
   ]
  },
  {
   "cell_type": "code",
   "execution_count": 62,
   "metadata": {},
   "outputs": [],
   "source": [
    "X_test,y_test = processData(array_test,look_back,forward_days,forward_days)\n",
    "y_test = np.array([list(a.ravel()) for a in y_test])\n",
    "\n",
    "X,y = processData(array_train,look_back,forward_days)\n",
    "y = np.array([list(a.ravel()) for a in y])\n",
    "\n",
    "from sklearn.model_selection import train_test_split\n",
    "X_train, X_validate, y_train, y_validate = train_test_split(X, y, test_size=0.20, random_state=42)"
   ]
  },
  {
   "cell_type": "code",
   "execution_count": 63,
   "metadata": {},
   "outputs": [
    {
     "name": "stdout",
     "output_type": "stream",
     "text": [
      "(2918, 50, 1)\n",
      "(730, 50, 1)\n",
      "(40, 50, 1)\n",
      "(2918, 5)\n",
      "(730, 5)\n",
      "(40, 5)\n"
     ]
    }
   ],
   "source": [
    "print(X_train.shape)\n",
    "print(X_validate.shape)\n",
    "print(X_test.shape)\n",
    "print(y_train.shape)\n",
    "print(y_validate.shape)\n",
    "print(y_test.shape)"
   ]
  },
  {
   "cell_type": "code",
   "execution_count": 65,
   "metadata": {},
   "outputs": [
    {
     "name": "stdout",
     "output_type": "stream",
     "text": [
      "Train on 2918 samples, validate on 730 samples\n",
      "Epoch 1/70\n",
      "2918/2918 [==============================] - 51s 18ms/step - loss: 0.0487 - acc: 0.2001 - val_loss: 0.0162 - val_acc: 0.1986\n",
      "Epoch 2/70\n",
      "2918/2918 [==============================] - 44s 15ms/step - loss: 0.0163 - acc: 0.1916 - val_loss: 0.0086 - val_acc: 0.1425\n",
      "Epoch 3/70\n",
      "2918/2918 [==============================] - 45s 15ms/step - loss: 0.0118 - acc: 0.2073 - val_loss: 0.0069 - val_acc: 0.1808\n",
      "Epoch 4/70\n",
      "2918/2918 [==============================] - 44s 15ms/step - loss: 0.0109 - acc: 0.2039 - val_loss: 0.0063 - val_acc: 0.2781\n",
      "Epoch 5/70\n",
      "2918/2918 [==============================] - 43s 15ms/step - loss: 0.0100 - acc: 0.1995 - val_loss: 0.0063 - val_acc: 0.1726\n",
      "Epoch 6/70\n",
      "2918/2918 [==============================] - 44s 15ms/step - loss: 0.0096 - acc: 0.1957 - val_loss: 0.0054 - val_acc: 0.1644\n",
      "Epoch 7/70\n",
      "2918/2918 [==============================] - 44s 15ms/step - loss: 0.0094 - acc: 0.2073 - val_loss: 0.0058 - val_acc: 0.1658\n",
      "Epoch 8/70\n",
      "2918/2918 [==============================] - 44s 15ms/step - loss: 0.0091 - acc: 0.1953 - val_loss: 0.0055 - val_acc: 0.1438\n",
      "Epoch 9/70\n",
      "2918/2918 [==============================] - 44s 15ms/step - loss: 0.0087 - acc: 0.1974 - val_loss: 0.0056 - val_acc: 0.1630\n",
      "Epoch 10/70\n",
      "2918/2918 [==============================] - 45s 15ms/step - loss: 0.0086 - acc: 0.2108 - val_loss: 0.0052 - val_acc: 0.2192\n",
      "Epoch 11/70\n",
      "2918/2918 [==============================] - 44s 15ms/step - loss: 0.0086 - acc: 0.2042 - val_loss: 0.0054 - val_acc: 0.1877\n",
      "Epoch 12/70\n",
      "2918/2918 [==============================] - 44s 15ms/step - loss: 0.0080 - acc: 0.2114 - val_loss: 0.0060 - val_acc: 0.1973\n",
      "Epoch 13/70\n",
      "2918/2918 [==============================] - 43s 15ms/step - loss: 0.0082 - acc: 0.2108 - val_loss: 0.0056 - val_acc: 0.1521\n",
      "Epoch 14/70\n",
      "2918/2918 [==============================] - 43s 15ms/step - loss: 0.0078 - acc: 0.1977 - val_loss: 0.0059 - val_acc: 0.2603\n",
      "Epoch 15/70\n",
      "2918/2918 [==============================] - 42s 14ms/step - loss: 0.0077 - acc: 0.2087 - val_loss: 0.0053 - val_acc: 0.2301\n",
      "Epoch 16/70\n",
      "2918/2918 [==============================] - 42s 15ms/step - loss: 0.0079 - acc: 0.1861 - val_loss: 0.0053 - val_acc: 0.2205\n",
      "Epoch 17/70\n",
      "2918/2918 [==============================] - 42s 14ms/step - loss: 0.0077 - acc: 0.1957 - val_loss: 0.0049 - val_acc: 0.1890\n",
      "Epoch 18/70\n",
      "2918/2918 [==============================] - 42s 14ms/step - loss: 0.0078 - acc: 0.1995 - val_loss: 0.0049 - val_acc: 0.2164\n",
      "Epoch 19/70\n",
      "2918/2918 [==============================] - 42s 14ms/step - loss: 0.0074 - acc: 0.2005 - val_loss: 0.0049 - val_acc: 0.2452\n",
      "Epoch 20/70\n",
      "2918/2918 [==============================] - 43s 15ms/step - loss: 0.0075 - acc: 0.1974 - val_loss: 0.0061 - val_acc: 0.1671\n",
      "Epoch 21/70\n",
      "2918/2918 [==============================] - 42s 14ms/step - loss: 0.0074 - acc: 0.2042 - val_loss: 0.0048 - val_acc: 0.2164\n",
      "Epoch 22/70\n",
      "2918/2918 [==============================] - 43s 15ms/step - loss: 0.0076 - acc: 0.2121 - val_loss: 0.0052 - val_acc: 0.2466\n",
      "Epoch 23/70\n",
      "2918/2918 [==============================] - 43s 15ms/step - loss: 0.0075 - acc: 0.2104 - val_loss: 0.0054 - val_acc: 0.2027\n",
      "Epoch 24/70\n",
      "2918/2918 [==============================] - 44s 15ms/step - loss: 0.0075 - acc: 0.1984 - val_loss: 0.0052 - val_acc: 0.1685\n",
      "Epoch 25/70\n",
      "2918/2918 [==============================] - 42s 15ms/step - loss: 0.0072 - acc: 0.2063 - val_loss: 0.0049 - val_acc: 0.2767\n",
      "Epoch 26/70\n",
      "2918/2918 [==============================] - 43s 15ms/step - loss: 0.0076 - acc: 0.2049 - val_loss: 0.0052 - val_acc: 0.1548\n",
      "Epoch 27/70\n",
      "2918/2918 [==============================] - 43s 15ms/step - loss: 0.0073 - acc: 0.1984 - val_loss: 0.0054 - val_acc: 0.1849\n",
      "Epoch 28/70\n",
      "2918/2918 [==============================] - 43s 15ms/step - loss: 0.0074 - acc: 0.2015 - val_loss: 0.0048 - val_acc: 0.1932\n",
      "Epoch 29/70\n",
      "2918/2918 [==============================] - 43s 15ms/step - loss: 0.0075 - acc: 0.2118 - val_loss: 0.0048 - val_acc: 0.1493\n",
      "Epoch 30/70\n",
      "2918/2918 [==============================] - 42s 15ms/step - loss: 0.0074 - acc: 0.2073 - val_loss: 0.0049 - val_acc: 0.2110\n",
      "Epoch 31/70\n",
      "2918/2918 [==============================] - 43s 15ms/step - loss: 0.0073 - acc: 0.1995 - val_loss: 0.0049 - val_acc: 0.1890\n",
      "Epoch 32/70\n",
      "2918/2918 [==============================] - 43s 15ms/step - loss: 0.0073 - acc: 0.1895 - val_loss: 0.0048 - val_acc: 0.1932\n",
      "Epoch 33/70\n",
      "2918/2918 [==============================] - 43s 15ms/step - loss: 0.0072 - acc: 0.2025 - val_loss: 0.0048 - val_acc: 0.1781\n",
      "Epoch 34/70\n",
      "2918/2918 [==============================] - 44s 15ms/step - loss: 0.0075 - acc: 0.2036 - val_loss: 0.0048 - val_acc: 0.2014\n",
      "Epoch 35/70\n",
      "2918/2918 [==============================] - 44s 15ms/step - loss: 0.0073 - acc: 0.2001 - val_loss: 0.0050 - val_acc: 0.1959\n",
      "Epoch 36/70\n",
      "2918/2918 [==============================] - 43s 15ms/step - loss: 0.0072 - acc: 0.2056 - val_loss: 0.0051 - val_acc: 0.1863\n",
      "Epoch 37/70\n",
      "2918/2918 [==============================] - 42s 14ms/step - loss: 0.0074 - acc: 0.2042 - val_loss: 0.0049 - val_acc: 0.1932\n",
      "Epoch 38/70\n",
      "2918/2918 [==============================] - 42s 14ms/step - loss: 0.0071 - acc: 0.2036 - val_loss: 0.0052 - val_acc: 0.2192\n",
      "Epoch 39/70\n",
      "2918/2918 [==============================] - 41s 14ms/step - loss: 0.0072 - acc: 0.2162 - val_loss: 0.0047 - val_acc: 0.1836\n",
      "Epoch 40/70\n",
      "2918/2918 [==============================] - 40s 14ms/step - loss: 0.0071 - acc: 0.2111 - val_loss: 0.0051 - val_acc: 0.2137\n",
      "Epoch 41/70\n",
      "2918/2918 [==============================] - 40s 14ms/step - loss: 0.0071 - acc: 0.1950 - val_loss: 0.0048 - val_acc: 0.1671\n",
      "Epoch 42/70\n",
      "2918/2918 [==============================] - 40s 14ms/step - loss: 0.0073 - acc: 0.2135 - val_loss: 0.0047 - val_acc: 0.2055\n",
      "Epoch 43/70\n",
      "2918/2918 [==============================] - 41s 14ms/step - loss: 0.0073 - acc: 0.1943 - val_loss: 0.0048 - val_acc: 0.2027\n",
      "Epoch 44/70\n",
      "2918/2918 [==============================] - 41s 14ms/step - loss: 0.0071 - acc: 0.1967 - val_loss: 0.0049 - val_acc: 0.2096\n",
      "Epoch 45/70\n",
      "2918/2918 [==============================] - 42s 14ms/step - loss: 0.0071 - acc: 0.2121 - val_loss: 0.0047 - val_acc: 0.2137\n",
      "Epoch 46/70\n",
      "2918/2918 [==============================] - 41s 14ms/step - loss: 0.0070 - acc: 0.2077 - val_loss: 0.0050 - val_acc: 0.2137\n",
      "Epoch 47/70\n",
      "2918/2918 [==============================] - 41s 14ms/step - loss: 0.0072 - acc: 0.1929 - val_loss: 0.0048 - val_acc: 0.1973\n",
      "Epoch 48/70\n",
      "2918/2918 [==============================] - 41s 14ms/step - loss: 0.0071 - acc: 0.2142 - val_loss: 0.0048 - val_acc: 0.2205\n",
      "Epoch 49/70\n",
      "2918/2918 [==============================] - 41s 14ms/step - loss: 0.0073 - acc: 0.2152 - val_loss: 0.0050 - val_acc: 0.1863\n",
      "Epoch 50/70\n",
      "2918/2918 [==============================] - 40s 14ms/step - loss: 0.0071 - acc: 0.2036 - val_loss: 0.0049 - val_acc: 0.2000\n",
      "Epoch 51/70\n",
      "2918/2918 [==============================] - 41s 14ms/step - loss: 0.0072 - acc: 0.2210 - val_loss: 0.0049 - val_acc: 0.2027\n",
      "Epoch 52/70\n",
      "2918/2918 [==============================] - 41s 14ms/step - loss: 0.0071 - acc: 0.2022 - val_loss: 0.0049 - val_acc: 0.2137\n",
      "Epoch 53/70\n",
      "2918/2918 [==============================] - 40s 14ms/step - loss: 0.0072 - acc: 0.2138 - val_loss: 0.0048 - val_acc: 0.2178\n",
      "Epoch 54/70\n",
      "2918/2918 [==============================] - 40s 14ms/step - loss: 0.0070 - acc: 0.2097 - val_loss: 0.0048 - val_acc: 0.2219\n",
      "Epoch 55/70\n",
      "2918/2918 [==============================] - 42s 14ms/step - loss: 0.0071 - acc: 0.2111 - val_loss: 0.0049 - val_acc: 0.2123\n",
      "Epoch 56/70\n",
      "2918/2918 [==============================] - 40s 14ms/step - loss: 0.0069 - acc: 0.1964 - val_loss: 0.0049 - val_acc: 0.2082\n",
      "Epoch 57/70\n",
      "2918/2918 [==============================] - 41s 14ms/step - loss: 0.0072 - acc: 0.2210 - val_loss: 0.0049 - val_acc: 0.2041\n",
      "Epoch 58/70\n",
      "2918/2918 [==============================] - 41s 14ms/step - loss: 0.0072 - acc: 0.2053 - val_loss: 0.0049 - val_acc: 0.2014\n",
      "Epoch 59/70\n",
      "2918/2918 [==============================] - 41s 14ms/step - loss: 0.0072 - acc: 0.2142 - val_loss: 0.0048 - val_acc: 0.1918\n",
      "Epoch 60/70\n"
     ]
    },
    {
     "name": "stdout",
     "output_type": "stream",
     "text": [
      "2918/2918 [==============================] - 41s 14ms/step - loss: 0.0072 - acc: 0.1933 - val_loss: 0.0048 - val_acc: 0.2027\n",
      "Epoch 61/70\n",
      "2918/2918 [==============================] - 41s 14ms/step - loss: 0.0073 - acc: 0.2077 - val_loss: 0.0048 - val_acc: 0.2096\n",
      "Epoch 62/70\n",
      "2918/2918 [==============================] - 42s 14ms/step - loss: 0.0071 - acc: 0.2056 - val_loss: 0.0048 - val_acc: 0.2027\n",
      "Epoch 63/70\n",
      "2918/2918 [==============================] - 42s 14ms/step - loss: 0.0072 - acc: 0.1861 - val_loss: 0.0049 - val_acc: 0.2041\n",
      "Epoch 64/70\n",
      "2918/2918 [==============================] - 42s 14ms/step - loss: 0.0072 - acc: 0.1950 - val_loss: 0.0049 - val_acc: 0.2123\n",
      "Epoch 65/70\n",
      "2918/2918 [==============================] - 41s 14ms/step - loss: 0.0070 - acc: 0.1984 - val_loss: 0.0049 - val_acc: 0.2178\n",
      "Epoch 66/70\n",
      "2918/2918 [==============================] - 41s 14ms/step - loss: 0.0071 - acc: 0.1926 - val_loss: 0.0049 - val_acc: 0.2205\n",
      "Epoch 67/70\n",
      "2918/2918 [==============================] - 42s 14ms/step - loss: 0.0072 - acc: 0.2197 - val_loss: 0.0049 - val_acc: 0.2178\n",
      "Epoch 68/70\n",
      "2918/2918 [==============================] - 42s 14ms/step - loss: 0.0070 - acc: 0.2029 - val_loss: 0.0049 - val_acc: 0.2219\n",
      "Epoch 69/70\n",
      "2918/2918 [==============================] - 43s 15ms/step - loss: 0.0070 - acc: 0.2138 - val_loss: 0.0049 - val_acc: 0.2274\n",
      "Epoch 70/70\n",
      "2918/2918 [==============================] - 43s 15ms/step - loss: 0.0070 - acc: 0.1940 - val_loss: 0.0049 - val_acc: 0.2233\n"
     ]
    },
    {
     "data": {
      "image/png": "[encoded data removed]",
      "text/plain": [
       "<Figure size 432x288 with 1 Axes>"
      ]
     },
     "metadata": {
      "needs_background": "light"
     },
     "output_type": "display_data"
    }
   ],
   "source": [
    "# train the LSTM\n",
    "#### 建模部分 ####\n",
    "model = keras.Sequential()\n",
    "model.add(layers.LSTM(64, return_sequences=True, input_shape=(X_train.shape[1:])))\n",
    "model.add(layers.LSTM(64, return_sequences=True))\n",
    "model.add(layers.LSTM(32))\n",
    "model.add(layers.Dropout(0.1))\n",
    "model.add(layers.Dense(5)) #用于预测未来5天\n",
    "\n",
    "model.compile(optimizer=keras.optimizers.Adam(), loss='mae',metrics=['accuracy'])\n",
    "learning_rate_reduction = keras.callbacks.ReduceLROnPlateau(monitor='val_loss', patience=3, factor=0.7, min_lr=0.000000005)\n",
    "\n",
    "history = model.fit(X_train, y_train,\n",
    "                    batch_size = 128,\n",
    "                    epochs=70,\n",
    "                    validation_data=(X_validate, y_validate),\n",
    "                    callbacks=[learning_rate_reduction])\n",
    "\n",
    "# loss变化趋势可视化\n",
    "plt.plot(history.history['loss'],label='training loss')\n",
    "plt.plot(history.history['val_loss'], label='val loss')\n",
    "plt.show()"
   ]
  },
  {
   "cell_type": "code",
   "execution_count": 82,
   "metadata": {},
   "outputs": [
    {
     "data": {
      "image/png": "[encoded data removed]",
      "text/plain": [
       "<Figure size 432x288 with 1 Axes>"
      ]
     },
     "metadata": {
      "needs_background": "light"
     },
     "output_type": "display_data"
    }
   ],
   "source": [
    "# loss变化趋势可视化\n",
    "plt.plot(history.history['loss'],label='training loss')\n",
    "plt.plot(history.history['val_loss'], label='val loss')\n",
    "plt.legend()\n",
    "plt.show()"
   ]
  },
  {
   "cell_type": "code",
   "execution_count": 76,
   "metadata": {},
   "outputs": [
    {
     "data": {
      "text/plain": [
       "<matplotlib.legend.Legend at 0x7f757471d748>"
      ]
     },
     "execution_count": 76,
     "metadata": {},
     "output_type": "execute_result"
    },
    {
     "data": {
      "image/png": "[encoded data removed]",
      "text/plain": [
       "<Figure size 432x288 with 1 Axes>"
      ]
     },
     "metadata": {
      "needs_background": "light"
     },
     "output_type": "display_data"
    }
   ],
   "source": [
    "#### 预测结果分析&可视化 #### \n",
    "\n",
    "closing_price = model.predict(X_test)\n",
    "fig = plt.gcf()\n",
    "plt.plot(scl.inverse_transform(y_test.reshape(-1,1)),label='y_test') # 逆归一化\n",
    "plt.plot(scl.inverse_transform(closing_price.reshape(-1,1)),label='Forecast')\n",
    "plt.legend()"
   ]
  },
  {
   "cell_type": "code",
   "execution_count": 73,
   "metadata": {},
   "outputs": [
    {
     "data": {
      "text/html": [
       "<div>\n",
       "<style scoped>\n",
       "    .dataframe tbody tr th:only-of-type {\n",
       "        vertical-align: middle;\n",
       "    }\n",
       "\n",
       "    .dataframe tbody tr th {\n",
       "        vertical-align: top;\n",
       "    }\n",
       "\n",
       "    .dataframe thead th {\n",
       "        text-align: right;\n",
       "    }\n",
       "</style>\n",
       "<table border=\"1\" class=\"dataframe\">\n",
       "  <thead>\n",
       "    <tr style=\"text-align: right;\">\n",
       "      <th></th>\n",
       "      <th>0</th>\n",
       "    </tr>\n",
       "  </thead>\n",
       "  <tbody>\n",
       "    <tr>\n",
       "      <th>count</th>\n",
       "      <td>200.000000</td>\n",
       "    </tr>\n",
       "    <tr>\n",
       "      <th>mean</th>\n",
       "      <td>0.027611</td>\n",
       "    </tr>\n",
       "    <tr>\n",
       "      <th>std</th>\n",
       "      <td>0.041390</td>\n",
       "    </tr>\n",
       "    <tr>\n",
       "      <th>min</th>\n",
       "      <td>-0.101287</td>\n",
       "    </tr>\n",
       "    <tr>\n",
       "      <th>25%</th>\n",
       "      <td>0.004437</td>\n",
       "    </tr>\n",
       "    <tr>\n",
       "      <th>50%</th>\n",
       "      <td>0.026771</td>\n",
       "    </tr>\n",
       "    <tr>\n",
       "      <th>75%</th>\n",
       "      <td>0.047263</td>\n",
       "    </tr>\n",
       "    <tr>\n",
       "      <th>max</th>\n",
       "      <td>0.201156</td>\n",
       "    </tr>\n",
       "  </tbody>\n",
       "</table>\n",
       "</div>"
      ],
      "text/plain": [
       "                0\n",
       "count  200.000000\n",
       "mean     0.027611\n",
       "std      0.041390\n",
       "min     -0.101287\n",
       "25%      0.004437\n",
       "50%      0.026771\n",
       "75%      0.047263\n",
       "max      0.201156"
      ]
     },
     "execution_count": 73,
     "metadata": {},
     "output_type": "execute_result"
    }
   ],
   "source": [
    "# T检验中的差值统计，查看差值序列在统计挺行上的综合表现\n",
    "a = y_test.reshape(-1,1)\n",
    "b = closing_price.reshape(-1,1)\n",
    "c = a - b #实际值减去预测值\n",
    "c = pd.DataFrame(c)\n",
    "c.describe()"
   ]
  },
  {
   "cell_type": "code",
   "execution_count": 79,
   "metadata": {},
   "outputs": [
    {
     "name": "stdout",
     "output_type": "stream",
     "text": [
      "0.03754420550005824\n"
     ]
    }
   ],
   "source": [
    "# 均方误差\n",
    "from sklearn.metrics import mean_absolute_error\n",
    "RMS = mean_absolute_error(y_test.reshape(-1, 1), closing_price.reshape(-1,1))\n",
    "\n",
    "print(RMS)"
   ]
  }
 ],
 "metadata": {
  "kernelspec": {
   "display_name": "Python 3",
   "language": "python",
   "name": "python3"
  },
  "language_info": {
   "codemirror_mode": {
    "name": "ipython",
    "version": 3
   },
   "file_extension": ".py",
   "mimetype": "text/x-python",
   "name": "python",
   "nbconvert_exporter": "python",
   "pygments_lexer": "ipython3",
   "version": "3.6.7"
  },
  "toc": {
   "base_numbering": 1,
   "nav_menu": {},
   "number_sections": false,
   "sideBar": true,
   "skip_h1_title": false,
   "title_cell": "MarkDown菜单",
   "title_sidebar": "Contents",
   "toc_cell": false,
   "toc_position": {},
   "toc_section_display": true,
   "toc_window_display": false
  }
 },
 "nbformat": 4,
 "nbformat_minor": 2
}
